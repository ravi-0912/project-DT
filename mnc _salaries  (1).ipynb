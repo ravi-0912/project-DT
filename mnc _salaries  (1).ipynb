{
 "cells": [
  {
   "cell_type": "code",
   "execution_count": 1,
   "metadata": {},
   "outputs": [],
   "source": [
    "import pandas as pd\n",
    "import numpy as np\n",
    "from sklearn.preprocessing import LabelEncoder\n",
    "from sklearn.linear_model import LinearRegression\n",
    "import matplotlib.pyplot as plt\n",
    "from sklearn import metrics\n",
    "import warnings \n",
    "warnings.filterwarnings(\"ignore\")"
   ]
  },
  {
   "cell_type": "code",
   "execution_count": 2,
   "metadata": {},
   "outputs": [
    {
     "data": {
      "text/html": [
       "<div>\n",
       "<style scoped>\n",
       "    .dataframe tbody tr th:only-of-type {\n",
       "        vertical-align: middle;\n",
       "    }\n",
       "\n",
       "    .dataframe tbody tr th {\n",
       "        vertical-align: top;\n",
       "    }\n",
       "\n",
       "    .dataframe thead th {\n",
       "        text-align: right;\n",
       "    }\n",
       "</style>\n",
       "<table border=\"1\" class=\"dataframe\">\n",
       "  <thead>\n",
       "    <tr style=\"text-align: right;\">\n",
       "      <th></th>\n",
       "      <th>Name</th>\n",
       "      <th>Team</th>\n",
       "      <th>Number</th>\n",
       "      <th>Position</th>\n",
       "      <th>Age</th>\n",
       "      <th>DOJ</th>\n",
       "      <th>Weight</th>\n",
       "      <th>College</th>\n",
       "      <th>Salary</th>\n",
       "    </tr>\n",
       "  </thead>\n",
       "  <tbody>\n",
       "    <tr>\n",
       "      <th>0</th>\n",
       "      <td>Avery Bradley</td>\n",
       "      <td>Boston Celtics</td>\n",
       "      <td>0</td>\n",
       "      <td>PG</td>\n",
       "      <td>25</td>\n",
       "      <td>06-Feb</td>\n",
       "      <td>180</td>\n",
       "      <td>Texas</td>\n",
       "      <td>7730337.0</td>\n",
       "    </tr>\n",
       "    <tr>\n",
       "      <th>1</th>\n",
       "      <td>Jae Crowder</td>\n",
       "      <td>Boston Celtics</td>\n",
       "      <td>99</td>\n",
       "      <td>SF</td>\n",
       "      <td>25</td>\n",
       "      <td>06-Jun</td>\n",
       "      <td>235</td>\n",
       "      <td>Marquette</td>\n",
       "      <td>6796117.0</td>\n",
       "    </tr>\n",
       "    <tr>\n",
       "      <th>2</th>\n",
       "      <td>John Holland</td>\n",
       "      <td>Boston Celtics</td>\n",
       "      <td>30</td>\n",
       "      <td>SG</td>\n",
       "      <td>27</td>\n",
       "      <td>06-May</td>\n",
       "      <td>205</td>\n",
       "      <td>Boston University</td>\n",
       "      <td>NaN</td>\n",
       "    </tr>\n",
       "    <tr>\n",
       "      <th>3</th>\n",
       "      <td>R.J. Hunter</td>\n",
       "      <td>Boston Celtics</td>\n",
       "      <td>28</td>\n",
       "      <td>SG</td>\n",
       "      <td>22</td>\n",
       "      <td>06-May</td>\n",
       "      <td>185</td>\n",
       "      <td>Georgia State</td>\n",
       "      <td>1148640.0</td>\n",
       "    </tr>\n",
       "    <tr>\n",
       "      <th>4</th>\n",
       "      <td>Jonas Jerebko</td>\n",
       "      <td>Boston Celtics</td>\n",
       "      <td>8</td>\n",
       "      <td>PF</td>\n",
       "      <td>29</td>\n",
       "      <td>06-Oct</td>\n",
       "      <td>231</td>\n",
       "      <td>NaN</td>\n",
       "      <td>5000000.0</td>\n",
       "    </tr>\n",
       "    <tr>\n",
       "      <th>...</th>\n",
       "      <td>...</td>\n",
       "      <td>...</td>\n",
       "      <td>...</td>\n",
       "      <td>...</td>\n",
       "      <td>...</td>\n",
       "      <td>...</td>\n",
       "      <td>...</td>\n",
       "      <td>...</td>\n",
       "      <td>...</td>\n",
       "    </tr>\n",
       "    <tr>\n",
       "      <th>452</th>\n",
       "      <td>Trey Lyles</td>\n",
       "      <td>Utah Jazz</td>\n",
       "      <td>41</td>\n",
       "      <td>PF</td>\n",
       "      <td>20</td>\n",
       "      <td>06-Oct</td>\n",
       "      <td>234</td>\n",
       "      <td>Kentucky</td>\n",
       "      <td>2239800.0</td>\n",
       "    </tr>\n",
       "    <tr>\n",
       "      <th>453</th>\n",
       "      <td>Shelvin Mack</td>\n",
       "      <td>Utah Jazz</td>\n",
       "      <td>8</td>\n",
       "      <td>PG</td>\n",
       "      <td>26</td>\n",
       "      <td>06-Mar</td>\n",
       "      <td>203</td>\n",
       "      <td>Butler</td>\n",
       "      <td>2433333.0</td>\n",
       "    </tr>\n",
       "    <tr>\n",
       "      <th>454</th>\n",
       "      <td>Raul Neto</td>\n",
       "      <td>Utah Jazz</td>\n",
       "      <td>25</td>\n",
       "      <td>PG</td>\n",
       "      <td>24</td>\n",
       "      <td>06-Jan</td>\n",
       "      <td>179</td>\n",
       "      <td>NaN</td>\n",
       "      <td>900000.0</td>\n",
       "    </tr>\n",
       "    <tr>\n",
       "      <th>455</th>\n",
       "      <td>Tibor Pleiss</td>\n",
       "      <td>Utah Jazz</td>\n",
       "      <td>21</td>\n",
       "      <td>C</td>\n",
       "      <td>26</td>\n",
       "      <td>07-Mar</td>\n",
       "      <td>256</td>\n",
       "      <td>NaN</td>\n",
       "      <td>2900000.0</td>\n",
       "    </tr>\n",
       "    <tr>\n",
       "      <th>456</th>\n",
       "      <td>Jeff Withey</td>\n",
       "      <td>Utah Jazz</td>\n",
       "      <td>24</td>\n",
       "      <td>C</td>\n",
       "      <td>26</td>\n",
       "      <td>7-0</td>\n",
       "      <td>231</td>\n",
       "      <td>Kansas</td>\n",
       "      <td>947276.0</td>\n",
       "    </tr>\n",
       "  </tbody>\n",
       "</table>\n",
       "<p>457 rows × 9 columns</p>\n",
       "</div>"
      ],
      "text/plain": [
       "              Name            Team  Number Position  Age     DOJ  Weight  \\\n",
       "0    Avery Bradley  Boston Celtics       0       PG   25  06-Feb     180   \n",
       "1      Jae Crowder  Boston Celtics      99       SF   25  06-Jun     235   \n",
       "2     John Holland  Boston Celtics      30       SG   27  06-May     205   \n",
       "3      R.J. Hunter  Boston Celtics      28       SG   22  06-May     185   \n",
       "4    Jonas Jerebko  Boston Celtics       8       PF   29  06-Oct     231   \n",
       "..             ...             ...     ...      ...  ...     ...     ...   \n",
       "452     Trey Lyles       Utah Jazz      41       PF   20  06-Oct     234   \n",
       "453   Shelvin Mack       Utah Jazz       8       PG   26  06-Mar     203   \n",
       "454      Raul Neto       Utah Jazz      25       PG   24  06-Jan     179   \n",
       "455   Tibor Pleiss       Utah Jazz      21        C   26  07-Mar     256   \n",
       "456    Jeff Withey       Utah Jazz      24        C   26     7-0     231   \n",
       "\n",
       "               College     Salary  \n",
       "0                Texas  7730337.0  \n",
       "1            Marquette  6796117.0  \n",
       "2    Boston University        NaN  \n",
       "3        Georgia State  1148640.0  \n",
       "4                  NaN  5000000.0  \n",
       "..                 ...        ...  \n",
       "452           Kentucky  2239800.0  \n",
       "453             Butler  2433333.0  \n",
       "454                NaN   900000.0  \n",
       "455                NaN  2900000.0  \n",
       "456             Kansas   947276.0  \n",
       "\n",
       "[457 rows x 9 columns]"
      ]
     },
     "execution_count": 2,
     "metadata": {},
     "output_type": "execute_result"
    }
   ],
   "source": [
    "ds=pd.read_csv(\"mnc_salaries.csv\")\n",
    "ds"
   ]
  },
  {
   "cell_type": "code",
   "execution_count": 3,
   "metadata": {},
   "outputs": [
    {
     "data": {
      "text/html": [
       "<div>\n",
       "<style scoped>\n",
       "    .dataframe tbody tr th:only-of-type {\n",
       "        vertical-align: middle;\n",
       "    }\n",
       "\n",
       "    .dataframe tbody tr th {\n",
       "        vertical-align: top;\n",
       "    }\n",
       "\n",
       "    .dataframe thead th {\n",
       "        text-align: right;\n",
       "    }\n",
       "</style>\n",
       "<table border=\"1\" class=\"dataframe\">\n",
       "  <thead>\n",
       "    <tr style=\"text-align: right;\">\n",
       "      <th></th>\n",
       "      <th>Name</th>\n",
       "      <th>Team</th>\n",
       "      <th>Number</th>\n",
       "      <th>Position</th>\n",
       "      <th>Age</th>\n",
       "      <th>DOJ</th>\n",
       "      <th>Weight</th>\n",
       "      <th>College</th>\n",
       "      <th>Salary</th>\n",
       "    </tr>\n",
       "  </thead>\n",
       "  <tbody>\n",
       "    <tr>\n",
       "      <th>0</th>\n",
       "      <td>Avery Bradley</td>\n",
       "      <td>Boston Celtics</td>\n",
       "      <td>0</td>\n",
       "      <td>PG</td>\n",
       "      <td>25</td>\n",
       "      <td>06-Feb</td>\n",
       "      <td>180</td>\n",
       "      <td>Texas</td>\n",
       "      <td>7730337.0</td>\n",
       "    </tr>\n",
       "    <tr>\n",
       "      <th>1</th>\n",
       "      <td>Jae Crowder</td>\n",
       "      <td>Boston Celtics</td>\n",
       "      <td>99</td>\n",
       "      <td>SF</td>\n",
       "      <td>25</td>\n",
       "      <td>06-Jun</td>\n",
       "      <td>235</td>\n",
       "      <td>Marquette</td>\n",
       "      <td>6796117.0</td>\n",
       "    </tr>\n",
       "    <tr>\n",
       "      <th>2</th>\n",
       "      <td>John Holland</td>\n",
       "      <td>Boston Celtics</td>\n",
       "      <td>30</td>\n",
       "      <td>SG</td>\n",
       "      <td>27</td>\n",
       "      <td>06-May</td>\n",
       "      <td>205</td>\n",
       "      <td>Boston University</td>\n",
       "      <td>NaN</td>\n",
       "    </tr>\n",
       "    <tr>\n",
       "      <th>3</th>\n",
       "      <td>R.J. Hunter</td>\n",
       "      <td>Boston Celtics</td>\n",
       "      <td>28</td>\n",
       "      <td>SG</td>\n",
       "      <td>22</td>\n",
       "      <td>06-May</td>\n",
       "      <td>185</td>\n",
       "      <td>Georgia State</td>\n",
       "      <td>1148640.0</td>\n",
       "    </tr>\n",
       "    <tr>\n",
       "      <th>4</th>\n",
       "      <td>Jonas Jerebko</td>\n",
       "      <td>Boston Celtics</td>\n",
       "      <td>8</td>\n",
       "      <td>PF</td>\n",
       "      <td>29</td>\n",
       "      <td>06-Oct</td>\n",
       "      <td>231</td>\n",
       "      <td>NaN</td>\n",
       "      <td>5000000.0</td>\n",
       "    </tr>\n",
       "    <tr>\n",
       "      <th>...</th>\n",
       "      <td>...</td>\n",
       "      <td>...</td>\n",
       "      <td>...</td>\n",
       "      <td>...</td>\n",
       "      <td>...</td>\n",
       "      <td>...</td>\n",
       "      <td>...</td>\n",
       "      <td>...</td>\n",
       "      <td>...</td>\n",
       "    </tr>\n",
       "    <tr>\n",
       "      <th>452</th>\n",
       "      <td>Trey Lyles</td>\n",
       "      <td>Utah Jazz</td>\n",
       "      <td>41</td>\n",
       "      <td>PF</td>\n",
       "      <td>20</td>\n",
       "      <td>06-Oct</td>\n",
       "      <td>234</td>\n",
       "      <td>Kentucky</td>\n",
       "      <td>2239800.0</td>\n",
       "    </tr>\n",
       "    <tr>\n",
       "      <th>453</th>\n",
       "      <td>Shelvin Mack</td>\n",
       "      <td>Utah Jazz</td>\n",
       "      <td>8</td>\n",
       "      <td>PG</td>\n",
       "      <td>26</td>\n",
       "      <td>06-Mar</td>\n",
       "      <td>203</td>\n",
       "      <td>Butler</td>\n",
       "      <td>2433333.0</td>\n",
       "    </tr>\n",
       "    <tr>\n",
       "      <th>454</th>\n",
       "      <td>Raul Neto</td>\n",
       "      <td>Utah Jazz</td>\n",
       "      <td>25</td>\n",
       "      <td>PG</td>\n",
       "      <td>24</td>\n",
       "      <td>06-Jan</td>\n",
       "      <td>179</td>\n",
       "      <td>NaN</td>\n",
       "      <td>900000.0</td>\n",
       "    </tr>\n",
       "    <tr>\n",
       "      <th>455</th>\n",
       "      <td>Tibor Pleiss</td>\n",
       "      <td>Utah Jazz</td>\n",
       "      <td>21</td>\n",
       "      <td>C</td>\n",
       "      <td>26</td>\n",
       "      <td>07-Mar</td>\n",
       "      <td>256</td>\n",
       "      <td>NaN</td>\n",
       "      <td>2900000.0</td>\n",
       "    </tr>\n",
       "    <tr>\n",
       "      <th>456</th>\n",
       "      <td>Jeff Withey</td>\n",
       "      <td>Utah Jazz</td>\n",
       "      <td>24</td>\n",
       "      <td>C</td>\n",
       "      <td>26</td>\n",
       "      <td>7-0</td>\n",
       "      <td>231</td>\n",
       "      <td>Kansas</td>\n",
       "      <td>947276.0</td>\n",
       "    </tr>\n",
       "  </tbody>\n",
       "</table>\n",
       "<p>457 rows × 9 columns</p>\n",
       "</div>"
      ],
      "text/plain": [
       "              Name            Team  Number Position  Age     DOJ  Weight  \\\n",
       "0    Avery Bradley  Boston Celtics       0       PG   25  06-Feb     180   \n",
       "1      Jae Crowder  Boston Celtics      99       SF   25  06-Jun     235   \n",
       "2     John Holland  Boston Celtics      30       SG   27  06-May     205   \n",
       "3      R.J. Hunter  Boston Celtics      28       SG   22  06-May     185   \n",
       "4    Jonas Jerebko  Boston Celtics       8       PF   29  06-Oct     231   \n",
       "..             ...             ...     ...      ...  ...     ...     ...   \n",
       "452     Trey Lyles       Utah Jazz      41       PF   20  06-Oct     234   \n",
       "453   Shelvin Mack       Utah Jazz       8       PG   26  06-Mar     203   \n",
       "454      Raul Neto       Utah Jazz      25       PG   24  06-Jan     179   \n",
       "455   Tibor Pleiss       Utah Jazz      21        C   26  07-Mar     256   \n",
       "456    Jeff Withey       Utah Jazz      24        C   26     7-0     231   \n",
       "\n",
       "               College     Salary  \n",
       "0                Texas  7730337.0  \n",
       "1            Marquette  6796117.0  \n",
       "2    Boston University        NaN  \n",
       "3        Georgia State  1148640.0  \n",
       "4                  NaN  5000000.0  \n",
       "..                 ...        ...  \n",
       "452           Kentucky  2239800.0  \n",
       "453             Butler  2433333.0  \n",
       "454                NaN   900000.0  \n",
       "455                NaN  2900000.0  \n",
       "456             Kansas   947276.0  \n",
       "\n",
       "[457 rows x 9 columns]"
      ]
     },
     "execution_count": 3,
     "metadata": {},
     "output_type": "execute_result"
    }
   ],
   "source": [
    "df=pd.DataFrame(data=ds)\n",
    "df"
   ]
  },
  {
   "cell_type": "code",
   "execution_count": 4,
   "metadata": {},
   "outputs": [
    {
     "data": {
      "text/plain": [
       "Index(['Name', 'Team', 'Number', 'Position', 'Age', 'DOJ', 'Weight', 'College',\n",
       "       'Salary'],\n",
       "      dtype='object')"
      ]
     },
     "execution_count": 4,
     "metadata": {},
     "output_type": "execute_result"
    }
   ],
   "source": [
    "df.columns"
   ]
  },
  {
   "cell_type": "code",
   "execution_count": 5,
   "metadata": {
    "scrolled": true
   },
   "outputs": [
    {
     "data": {
      "text/plain": [
       "Index(['Name', 'Team', 'Number', 'Position', 'Age', 'DOJ', 'Weight', 'College',\n",
       "       'Salary'],\n",
       "      dtype='object')"
      ]
     },
     "execution_count": 5,
     "metadata": {},
     "output_type": "execute_result"
    }
   ],
   "source": [
    "df.keys()"
   ]
  },
  {
   "cell_type": "code",
   "execution_count": 6,
   "metadata": {},
   "outputs": [
    {
     "data": {
      "text/plain": [
       "Name         object\n",
       "Team         object\n",
       "Number        int64\n",
       "Position     object\n",
       "Age           int64\n",
       "DOJ          object\n",
       "Weight        int64\n",
       "College      object\n",
       "Salary      float64\n",
       "dtype: object"
      ]
     },
     "execution_count": 6,
     "metadata": {},
     "output_type": "execute_result"
    }
   ],
   "source": [
    "df.dtypes"
   ]
  },
  {
   "cell_type": "code",
   "execution_count": 7,
   "metadata": {},
   "outputs": [
    {
     "data": {
      "text/plain": [
       "Name         0\n",
       "Team         0\n",
       "Number       0\n",
       "Position     0\n",
       "Age          0\n",
       "DOJ          0\n",
       "Weight       0\n",
       "College     84\n",
       "Salary      11\n",
       "dtype: int64"
      ]
     },
     "execution_count": 7,
     "metadata": {},
     "output_type": "execute_result"
    }
   ],
   "source": [
    "df.isnull().sum()"
   ]
  },
  {
   "cell_type": "code",
   "execution_count": 8,
   "metadata": {},
   "outputs": [
    {
     "data": {
      "image/png": "[encoded data removed]",
      "text/plain": [
       "<Figure size 432x288 with 2 Axes>"
      ]
     },
     "metadata": {
      "needs_background": "light"
     },
     "output_type": "display_data"
    }
   ],
   "source": [
    "import seaborn as sns\n",
    "sns.heatmap(df.isnull())\n",
    "plt.show()"
   ]
  },
  {
   "cell_type": "code",
   "execution_count": 9,
   "metadata": {},
   "outputs": [],
   "source": [
    "df.dropna(inplace=True)"
   ]
  },
  {
   "cell_type": "code",
   "execution_count": 10,
   "metadata": {},
   "outputs": [
    {
     "data": {
      "text/plain": [
       "Name        0\n",
       "Team        0\n",
       "Number      0\n",
       "Position    0\n",
       "Age         0\n",
       "DOJ         0\n",
       "Weight      0\n",
       "College     0\n",
       "Salary      0\n",
       "dtype: int64"
      ]
     },
     "execution_count": 10,
     "metadata": {},
     "output_type": "execute_result"
    }
   ],
   "source": [
    "df.isnull().sum()"
   ]
  },
  {
   "cell_type": "code",
   "execution_count": 11,
   "metadata": {},
   "outputs": [
    {
     "data": {
      "image/png": "[encoded data removed]",
      "text/plain": [
       "<Figure size 432x288 with 2 Axes>"
      ]
     },
     "metadata": {
      "needs_background": "light"
     },
     "output_type": "display_data"
    }
   ],
   "source": [
    "import seaborn as sns\n",
    "sns.heatmap(df.isnull())\n",
    "plt.show()"
   ]
  },
  {
   "cell_type": "code",
   "execution_count": 12,
   "metadata": {},
   "outputs": [
    {
     "data": {
      "image/png": "[encoded data removed]",
      "text/plain": [
       "<Figure size 432x288 with 1 Axes>"
      ]
     },
     "metadata": {
      "needs_background": "light"
     },
     "output_type": "display_data"
    }
   ],
   "source": [
    "plt.hist(df[\"Weight\"],bins=10)\n",
    "plt.title(\"Weight \")\n",
    "plt.show()"
   ]
  },
  {
   "cell_type": "code",
   "execution_count": 13,
   "metadata": {},
   "outputs": [
    {
     "data": {
      "image/png": "[encoded data removed]",
      "text/plain": [
       "<Figure size 432x288 with 1 Axes>"
      ]
     },
     "metadata": {
      "needs_background": "light"
     },
     "output_type": "display_data"
    }
   ],
   "source": [
    "plt.hist(df[\"Age\"],bins=10)\n",
    "plt.title(\"Age\")\n",
    "plt.show()"
   ]
  },
  {
   "cell_type": "code",
   "execution_count": 14,
   "metadata": {},
   "outputs": [
    {
     "data": {
      "text/html": [
       "<div>\n",
       "<style scoped>\n",
       "    .dataframe tbody tr th:only-of-type {\n",
       "        vertical-align: middle;\n",
       "    }\n",
       "\n",
       "    .dataframe tbody tr th {\n",
       "        vertical-align: top;\n",
       "    }\n",
       "\n",
       "    .dataframe thead th {\n",
       "        text-align: right;\n",
       "    }\n",
       "</style>\n",
       "<table border=\"1\" class=\"dataframe\">\n",
       "  <thead>\n",
       "    <tr style=\"text-align: right;\">\n",
       "      <th></th>\n",
       "      <th>Number</th>\n",
       "      <th>Age</th>\n",
       "      <th>Weight</th>\n",
       "      <th>Salary</th>\n",
       "    </tr>\n",
       "  </thead>\n",
       "  <tbody>\n",
       "    <tr>\n",
       "      <th>Number</th>\n",
       "      <td>1.000000</td>\n",
       "      <td>0.025090</td>\n",
       "      <td>0.239768</td>\n",
       "      <td>-0.154655</td>\n",
       "    </tr>\n",
       "    <tr>\n",
       "      <th>Age</th>\n",
       "      <td>0.025090</td>\n",
       "      <td>1.000000</td>\n",
       "      <td>0.058737</td>\n",
       "      <td>0.159385</td>\n",
       "    </tr>\n",
       "    <tr>\n",
       "      <th>Weight</th>\n",
       "      <td>0.239768</td>\n",
       "      <td>0.058737</td>\n",
       "      <td>1.000000</td>\n",
       "      <td>0.144334</td>\n",
       "    </tr>\n",
       "    <tr>\n",
       "      <th>Salary</th>\n",
       "      <td>-0.154655</td>\n",
       "      <td>0.159385</td>\n",
       "      <td>0.144334</td>\n",
       "      <td>1.000000</td>\n",
       "    </tr>\n",
       "  </tbody>\n",
       "</table>\n",
       "</div>"
      ],
      "text/plain": [
       "          Number       Age    Weight    Salary\n",
       "Number  1.000000  0.025090  0.239768 -0.154655\n",
       "Age     0.025090  1.000000  0.058737  0.159385\n",
       "Weight  0.239768  0.058737  1.000000  0.144334\n",
       "Salary -0.154655  0.159385  0.144334  1.000000"
      ]
     },
     "execution_count": 14,
     "metadata": {},
     "output_type": "execute_result"
    }
   ],
   "source": [
    "df.corr()"
   ]
  },
  {
   "cell_type": "code",
   "execution_count": 15,
   "metadata": {
    "scrolled": true
   },
   "outputs": [
    {
     "data": {
      "text/plain": [
       "<matplotlib.axes._subplots.AxesSubplot at 0x2570d2d0f10>"
      ]
     },
     "execution_count": 15,
     "metadata": {},
     "output_type": "execute_result"
    },
    {
     "data": {
      "image/png": "[encoded data removed]",
      "text/plain": [
       "<Figure size 432x288 with 1 Axes>"
      ]
     },
     "metadata": {
      "needs_background": "light"
     },
     "output_type": "display_data"
    }
   ],
   "source": [
    "df[\"Salary\"].plot.box()"
   ]
  },
  {
   "cell_type": "code",
   "execution_count": null,
   "metadata": {},
   "outputs": [],
   "source": []
  },
  {
   "cell_type": "code",
   "execution_count": null,
   "metadata": {},
   "outputs": [],
   "source": []
  },
  {
   "cell_type": "code",
   "execution_count": 16,
   "metadata": {
    "scrolled": true
   },
   "outputs": [
    {
     "data": {
      "text/plain": [
       "Number       AxesSubplot(0.125,0.657941;0.227941x0.222059)\n",
       "Age       AxesSubplot(0.398529,0.657941;0.227941x0.222059)\n",
       "Weight    AxesSubplot(0.672059,0.657941;0.227941x0.222059)\n",
       "Salary       AxesSubplot(0.125,0.391471;0.227941x0.222059)\n",
       "dtype: object"
      ]
     },
     "execution_count": 16,
     "metadata": {},
     "output_type": "execute_result"
    },
    {
     "data": {
      "image/png": "[encoded data removed]",
      "text/plain": [
       "<Figure size 1440x1440 with 9 Axes>"
      ]
     },
     "metadata": {
      "needs_background": "light"
     },
     "output_type": "display_data"
    }
   ],
   "source": [
    "df.plot(kind='box',subplots=True,layout=(3,3),figsize=(20,20))"
   ]
  },
  {
   "cell_type": "code",
   "execution_count": 17,
   "metadata": {},
   "outputs": [
    {
     "data": {
      "image/png": "[encoded data removed]",
      "text/plain": [
       "<Figure size 720x720 with 2 Axes>"
      ]
     },
     "metadata": {
      "needs_background": "light"
     },
     "output_type": "display_data"
    }
   ],
   "source": [
    "import seaborn as sns\n",
    "import matplotlib.pyplot as plt\n",
    "plt.figure(figsize=(10,10))\n",
    "sns.heatmap(df.corr(),annot=True)\n",
    "plt.show()"
   ]
  },
  {
   "cell_type": "code",
   "execution_count": 18,
   "metadata": {},
   "outputs": [],
   "source": [
    "le=LabelEncoder()\n",
    "list1=['Team','Position','College']\n",
    "for val in list1:\n",
    "    df[val]=le.fit_transform(df[val].astype(str))"
   ]
  },
  {
   "cell_type": "code",
   "execution_count": 19,
   "metadata": {},
   "outputs": [
    {
     "data": {
      "text/plain": [
       "(364, 9)"
      ]
     },
     "execution_count": 19,
     "metadata": {},
     "output_type": "execute_result"
    }
   ],
   "source": [
    "df.shape"
   ]
  },
  {
   "cell_type": "code",
   "execution_count": 20,
   "metadata": {
    "scrolled": false
   },
   "outputs": [],
   "source": [
    "df1=df.drop([\"Name\",\"DOJ\"],axis=1)"
   ]
  },
  {
   "cell_type": "code",
   "execution_count": 21,
   "metadata": {},
   "outputs": [
    {
     "data": {
      "text/html": [
       "<div>\n",
       "<style scoped>\n",
       "    .dataframe tbody tr th:only-of-type {\n",
       "        vertical-align: middle;\n",
       "    }\n",
       "\n",
       "    .dataframe tbody tr th {\n",
       "        vertical-align: top;\n",
       "    }\n",
       "\n",
       "    .dataframe thead th {\n",
       "        text-align: right;\n",
       "    }\n",
       "</style>\n",
       "<table border=\"1\" class=\"dataframe\">\n",
       "  <thead>\n",
       "    <tr style=\"text-align: right;\">\n",
       "      <th></th>\n",
       "      <th>Team</th>\n",
       "      <th>Number</th>\n",
       "      <th>Position</th>\n",
       "      <th>Age</th>\n",
       "      <th>Weight</th>\n",
       "      <th>College</th>\n",
       "      <th>Salary</th>\n",
       "    </tr>\n",
       "  </thead>\n",
       "  <tbody>\n",
       "    <tr>\n",
       "      <th>0</th>\n",
       "      <td>1</td>\n",
       "      <td>0</td>\n",
       "      <td>2</td>\n",
       "      <td>25</td>\n",
       "      <td>180</td>\n",
       "      <td>90</td>\n",
       "      <td>7730337.0</td>\n",
       "    </tr>\n",
       "    <tr>\n",
       "      <th>1</th>\n",
       "      <td>1</td>\n",
       "      <td>99</td>\n",
       "      <td>3</td>\n",
       "      <td>25</td>\n",
       "      <td>235</td>\n",
       "      <td>50</td>\n",
       "      <td>6796117.0</td>\n",
       "    </tr>\n",
       "    <tr>\n",
       "      <th>3</th>\n",
       "      <td>1</td>\n",
       "      <td>28</td>\n",
       "      <td>4</td>\n",
       "      <td>22</td>\n",
       "      <td>185</td>\n",
       "      <td>31</td>\n",
       "      <td>1148640.0</td>\n",
       "    </tr>\n",
       "    <tr>\n",
       "      <th>6</th>\n",
       "      <td>1</td>\n",
       "      <td>55</td>\n",
       "      <td>1</td>\n",
       "      <td>21</td>\n",
       "      <td>235</td>\n",
       "      <td>44</td>\n",
       "      <td>1170960.0</td>\n",
       "    </tr>\n",
       "    <tr>\n",
       "      <th>7</th>\n",
       "      <td>1</td>\n",
       "      <td>41</td>\n",
       "      <td>0</td>\n",
       "      <td>25</td>\n",
       "      <td>238</td>\n",
       "      <td>33</td>\n",
       "      <td>2165160.0</td>\n",
       "    </tr>\n",
       "    <tr>\n",
       "      <th>...</th>\n",
       "      <td>...</td>\n",
       "      <td>...</td>\n",
       "      <td>...</td>\n",
       "      <td>...</td>\n",
       "      <td>...</td>\n",
       "      <td>...</td>\n",
       "      <td>...</td>\n",
       "    </tr>\n",
       "    <tr>\n",
       "      <th>449</th>\n",
       "      <td>28</td>\n",
       "      <td>5</td>\n",
       "      <td>4</td>\n",
       "      <td>23</td>\n",
       "      <td>206</td>\n",
       "      <td>24</td>\n",
       "      <td>1348440.0</td>\n",
       "    </tr>\n",
       "    <tr>\n",
       "      <th>451</th>\n",
       "      <td>28</td>\n",
       "      <td>23</td>\n",
       "      <td>3</td>\n",
       "      <td>26</td>\n",
       "      <td>206</td>\n",
       "      <td>22</td>\n",
       "      <td>981348.0</td>\n",
       "    </tr>\n",
       "    <tr>\n",
       "      <th>452</th>\n",
       "      <td>28</td>\n",
       "      <td>41</td>\n",
       "      <td>1</td>\n",
       "      <td>20</td>\n",
       "      <td>234</td>\n",
       "      <td>43</td>\n",
       "      <td>2239800.0</td>\n",
       "    </tr>\n",
       "    <tr>\n",
       "      <th>453</th>\n",
       "      <td>28</td>\n",
       "      <td>8</td>\n",
       "      <td>2</td>\n",
       "      <td>26</td>\n",
       "      <td>203</td>\n",
       "      <td>10</td>\n",
       "      <td>2433333.0</td>\n",
       "    </tr>\n",
       "    <tr>\n",
       "      <th>456</th>\n",
       "      <td>28</td>\n",
       "      <td>24</td>\n",
       "      <td>0</td>\n",
       "      <td>26</td>\n",
       "      <td>231</td>\n",
       "      <td>41</td>\n",
       "      <td>947276.0</td>\n",
       "    </tr>\n",
       "  </tbody>\n",
       "</table>\n",
       "<p>364 rows × 7 columns</p>\n",
       "</div>"
      ],
      "text/plain": [
       "     Team  Number  Position  Age  Weight  College     Salary\n",
       "0       1       0         2   25     180       90  7730337.0\n",
       "1       1      99         3   25     235       50  6796117.0\n",
       "3       1      28         4   22     185       31  1148640.0\n",
       "6       1      55         1   21     235       44  1170960.0\n",
       "7       1      41         0   25     238       33  2165160.0\n",
       "..    ...     ...       ...  ...     ...      ...        ...\n",
       "449    28       5         4   23     206       24  1348440.0\n",
       "451    28      23         3   26     206       22   981348.0\n",
       "452    28      41         1   20     234       43  2239800.0\n",
       "453    28       8         2   26     203       10  2433333.0\n",
       "456    28      24         0   26     231       41   947276.0\n",
       "\n",
       "[364 rows x 7 columns]"
      ]
     },
     "execution_count": 21,
     "metadata": {},
     "output_type": "execute_result"
    }
   ],
   "source": [
    "df1"
   ]
  },
  {
   "cell_type": "code",
   "execution_count": 22,
   "metadata": {},
   "outputs": [
    {
     "data": {
      "text/plain": [
       "array([[1.57640645, 1.12395981, 0.13226798, ..., 1.60691803, 1.08718243,\n",
       "        0.60829683],\n",
       "       [1.57640645, 5.48769798, 0.59720998, ..., 0.61449469, 0.1758333 ,\n",
       "        0.42557068],\n",
       "       [1.57640645, 0.74600401, 1.32668794, ..., 1.40497142, 0.77576578,\n",
       "        0.6790318 ],\n",
       "       ...,\n",
       "       [1.56681177, 1.6142015 , 0.86174594, ..., 0.57410537, 0.39686106,\n",
       "        0.46560941],\n",
       "       [1.56681177, 0.58968443, 0.13226798, ..., 0.67796362, 1.43884904,\n",
       "        0.42775586],\n",
       "       [1.56681177, 0.47886632, 1.5912239 , ..., 0.4529374 , 0.46001184,\n",
       "        0.71841703]])"
      ]
     },
     "execution_count": 22,
     "metadata": {},
     "output_type": "execute_result"
    }
   ],
   "source": [
    "from scipy.stats import zscore\n",
    "z=np.abs(zscore(df1))\n",
    "z"
   ]
  },
  {
   "cell_type": "code",
   "execution_count": 23,
   "metadata": {},
   "outputs": [],
   "source": [
    "from scipy import stats\n",
    "df2=df1[(z<3).all(axis=1)]"
   ]
  },
  {
   "cell_type": "code",
   "execution_count": 24,
   "metadata": {},
   "outputs": [
    {
     "data": {
      "text/html": [
       "<div>\n",
       "<style scoped>\n",
       "    .dataframe tbody tr th:only-of-type {\n",
       "        vertical-align: middle;\n",
       "    }\n",
       "\n",
       "    .dataframe tbody tr th {\n",
       "        vertical-align: top;\n",
       "    }\n",
       "\n",
       "    .dataframe thead th {\n",
       "        text-align: right;\n",
       "    }\n",
       "</style>\n",
       "<table border=\"1\" class=\"dataframe\">\n",
       "  <thead>\n",
       "    <tr style=\"text-align: right;\">\n",
       "      <th></th>\n",
       "      <th>Team</th>\n",
       "      <th>Number</th>\n",
       "      <th>Position</th>\n",
       "      <th>Age</th>\n",
       "      <th>Weight</th>\n",
       "      <th>College</th>\n",
       "      <th>Salary</th>\n",
       "    </tr>\n",
       "  </thead>\n",
       "  <tbody>\n",
       "    <tr>\n",
       "      <th>0</th>\n",
       "      <td>1</td>\n",
       "      <td>0</td>\n",
       "      <td>2</td>\n",
       "      <td>25</td>\n",
       "      <td>180</td>\n",
       "      <td>90</td>\n",
       "      <td>7730337.0</td>\n",
       "    </tr>\n",
       "    <tr>\n",
       "      <th>3</th>\n",
       "      <td>1</td>\n",
       "      <td>28</td>\n",
       "      <td>4</td>\n",
       "      <td>22</td>\n",
       "      <td>185</td>\n",
       "      <td>31</td>\n",
       "      <td>1148640.0</td>\n",
       "    </tr>\n",
       "    <tr>\n",
       "      <th>6</th>\n",
       "      <td>1</td>\n",
       "      <td>55</td>\n",
       "      <td>1</td>\n",
       "      <td>21</td>\n",
       "      <td>235</td>\n",
       "      <td>44</td>\n",
       "      <td>1170960.0</td>\n",
       "    </tr>\n",
       "    <tr>\n",
       "      <th>7</th>\n",
       "      <td>1</td>\n",
       "      <td>41</td>\n",
       "      <td>0</td>\n",
       "      <td>25</td>\n",
       "      <td>238</td>\n",
       "      <td>33</td>\n",
       "      <td>2165160.0</td>\n",
       "    </tr>\n",
       "    <tr>\n",
       "      <th>8</th>\n",
       "      <td>1</td>\n",
       "      <td>12</td>\n",
       "      <td>2</td>\n",
       "      <td>22</td>\n",
       "      <td>190</td>\n",
       "      <td>49</td>\n",
       "      <td>1824360.0</td>\n",
       "    </tr>\n",
       "    <tr>\n",
       "      <th>...</th>\n",
       "      <td>...</td>\n",
       "      <td>...</td>\n",
       "      <td>...</td>\n",
       "      <td>...</td>\n",
       "      <td>...</td>\n",
       "      <td>...</td>\n",
       "      <td>...</td>\n",
       "    </tr>\n",
       "    <tr>\n",
       "      <th>449</th>\n",
       "      <td>28</td>\n",
       "      <td>5</td>\n",
       "      <td>4</td>\n",
       "      <td>23</td>\n",
       "      <td>206</td>\n",
       "      <td>24</td>\n",
       "      <td>1348440.0</td>\n",
       "    </tr>\n",
       "    <tr>\n",
       "      <th>451</th>\n",
       "      <td>28</td>\n",
       "      <td>23</td>\n",
       "      <td>3</td>\n",
       "      <td>26</td>\n",
       "      <td>206</td>\n",
       "      <td>22</td>\n",
       "      <td>981348.0</td>\n",
       "    </tr>\n",
       "    <tr>\n",
       "      <th>452</th>\n",
       "      <td>28</td>\n",
       "      <td>41</td>\n",
       "      <td>1</td>\n",
       "      <td>20</td>\n",
       "      <td>234</td>\n",
       "      <td>43</td>\n",
       "      <td>2239800.0</td>\n",
       "    </tr>\n",
       "    <tr>\n",
       "      <th>453</th>\n",
       "      <td>28</td>\n",
       "      <td>8</td>\n",
       "      <td>2</td>\n",
       "      <td>26</td>\n",
       "      <td>203</td>\n",
       "      <td>10</td>\n",
       "      <td>2433333.0</td>\n",
       "    </tr>\n",
       "    <tr>\n",
       "      <th>456</th>\n",
       "      <td>28</td>\n",
       "      <td>24</td>\n",
       "      <td>0</td>\n",
       "      <td>26</td>\n",
       "      <td>231</td>\n",
       "      <td>41</td>\n",
       "      <td>947276.0</td>\n",
       "    </tr>\n",
       "  </tbody>\n",
       "</table>\n",
       "<p>353 rows × 7 columns</p>\n",
       "</div>"
      ],
      "text/plain": [
       "     Team  Number  Position  Age  Weight  College     Salary\n",
       "0       1       0         2   25     180       90  7730337.0\n",
       "3       1      28         4   22     185       31  1148640.0\n",
       "6       1      55         1   21     235       44  1170960.0\n",
       "7       1      41         0   25     238       33  2165160.0\n",
       "8       1      12         2   22     190       49  1824360.0\n",
       "..    ...     ...       ...  ...     ...      ...        ...\n",
       "449    28       5         4   23     206       24  1348440.0\n",
       "451    28      23         3   26     206       22   981348.0\n",
       "452    28      41         1   20     234       43  2239800.0\n",
       "453    28       8         2   26     203       10  2433333.0\n",
       "456    28      24         0   26     231       41   947276.0\n",
       "\n",
       "[353 rows x 7 columns]"
      ]
     },
     "execution_count": 24,
     "metadata": {},
     "output_type": "execute_result"
    }
   ],
   "source": [
    "df2"
   ]
  },
  {
   "cell_type": "code",
   "execution_count": 25,
   "metadata": {},
   "outputs": [
    {
     "data": {
      "text/plain": [
       "(353, 7)"
      ]
     },
     "execution_count": 25,
     "metadata": {},
     "output_type": "execute_result"
    }
   ],
   "source": [
    "df2.shape"
   ]
  },
  {
   "cell_type": "code",
   "execution_count": 26,
   "metadata": {},
   "outputs": [
    {
     "data": {
      "text/plain": [
       "Team           AxesSubplot(0.125,0.657941;0.227941x0.222059)\n",
       "Number      AxesSubplot(0.398529,0.657941;0.227941x0.222059)\n",
       "Position    AxesSubplot(0.672059,0.657941;0.227941x0.222059)\n",
       "Age            AxesSubplot(0.125,0.391471;0.227941x0.222059)\n",
       "Weight      AxesSubplot(0.398529,0.391471;0.227941x0.222059)\n",
       "College     AxesSubplot(0.672059,0.391471;0.227941x0.222059)\n",
       "Salary            AxesSubplot(0.125,0.125;0.227941x0.222059)\n",
       "dtype: object"
      ]
     },
     "execution_count": 26,
     "metadata": {},
     "output_type": "execute_result"
    },
    {
     "data": {
      "image/png": "[encoded data removed]",
      "text/plain": [
       "<Figure size 1440x1440 with 9 Axes>"
      ]
     },
     "metadata": {
      "needs_background": "light"
     },
     "output_type": "display_data"
    }
   ],
   "source": [
    "df2.plot(kind='box',subplots=True,layout=(3,3),figsize=(20,20))"
   ]
  },
  {
   "cell_type": "code",
   "execution_count": 27,
   "metadata": {},
   "outputs": [],
   "source": [
    "\n",
    "x1=df2.iloc[:,0:7]\n"
   ]
  },
  {
   "cell_type": "code",
   "execution_count": 28,
   "metadata": {},
   "outputs": [],
   "source": [
    "y=df2.iloc[:,-1]"
   ]
  },
  {
   "cell_type": "code",
   "execution_count": 29,
   "metadata": {},
   "outputs": [
    {
     "data": {
      "text/plain": [
       "(353, 7)"
      ]
     },
     "execution_count": 29,
     "metadata": {},
     "output_type": "execute_result"
    }
   ],
   "source": [
    "x1.shape"
   ]
  },
  {
   "cell_type": "code",
   "execution_count": 30,
   "metadata": {},
   "outputs": [
    {
     "data": {
      "text/plain": [
       "(353,)"
      ]
     },
     "execution_count": 30,
     "metadata": {},
     "output_type": "execute_result"
    }
   ],
   "source": [
    "y.shape"
   ]
  },
  {
   "cell_type": "code",
   "execution_count": 31,
   "metadata": {},
   "outputs": [],
   "source": [
    "from sklearn.metrics import mean_absolute_error\n",
    "from sklearn.metrics import mean_squared_error\n",
    "from sklearn.metrics import r2_score\n",
    "from sklearn.model_selection import train_test_split\n",
    "def maxr2_score(regr,train_df,train_target):\n",
    "    max_r_score=0\n",
    "    for i in range(42,100):\n",
    "        x_train,x_test,y_train,y_test=train_test_split(train_df,train_target,random_state= i ,test_size=0.20)\n",
    "        regr.fit(x_train,y_train)\n",
    "        y_pred=regr.predict(x_test)\n",
    "        r2_scr=r2_score(y_test,y_pred)\n",
    "        print(\"r2 score corresponding to\",i,\"is\",r2_scr)\n",
    "        if r2_scr>max_r_score:\n",
    "            max_r_score=r2_scr\n",
    "            final_i=i\n",
    "    print(\"max r2 score corresponding to\",final_i,\"is\",max_r_score)\n",
    "    return final_i"
   ]
  },
  {
   "cell_type": "code",
   "execution_count": 32,
   "metadata": {},
   "outputs": [
    {
     "data": {
      "text/plain": [
       "{'n_neighbors': 1}"
      ]
     },
     "execution_count": 32,
     "metadata": {},
     "output_type": "execute_result"
    }
   ],
   "source": [
    "from sklearn.model_selection import GridSearchCV\n",
    "from sklearn.neighbors import KNeighborsRegressor\n",
    "neighbors={\"n_neighbors\":range(1,30)}\n",
    "knr=KNeighborsRegressor()\n",
    "gknr=GridSearchCV(knr,neighbors, cv=10)\n",
    "gknr.fit(x1,y)\n",
    "gknr.best_params_"
   ]
  },
  {
   "cell_type": "code",
   "execution_count": 33,
   "metadata": {},
   "outputs": [
    {
     "name": "stdout",
     "output_type": "stream",
     "text": [
      "r2 score corresponding to 42 is 0.9997734908292029\n",
      "r2 score corresponding to 43 is 0.9994633160174902\n",
      "r2 score corresponding to 44 is 0.9997551057283437\n",
      "r2 score corresponding to 45 is 0.9997255759782763\n",
      "r2 score corresponding to 46 is 0.9999461040367971\n",
      "r2 score corresponding to 47 is 0.9997032618153462\n",
      "r2 score corresponding to 48 is 0.9999226370331561\n",
      "r2 score corresponding to 49 is 0.999887748486175\n",
      "r2 score corresponding to 50 is 0.9994887235164247\n",
      "r2 score corresponding to 51 is 0.9998739495460691\n",
      "r2 score corresponding to 52 is 0.9999257288931596\n",
      "r2 score corresponding to 53 is 0.9995532564536798\n",
      "r2 score corresponding to 54 is 0.9999374396910146\n",
      "r2 score corresponding to 55 is 0.9999185488415814\n",
      "r2 score corresponding to 56 is 0.9999428034531477\n",
      "r2 score corresponding to 57 is 0.9999506437567603\n",
      "r2 score corresponding to 58 is 0.9997919084471332\n",
      "r2 score corresponding to 59 is 0.9989231912794075\n",
      "r2 score corresponding to 60 is 0.9995783611902441\n",
      "r2 score corresponding to 61 is 0.9998053452428333\n",
      "r2 score corresponding to 62 is 0.9997140926197762\n",
      "r2 score corresponding to 63 is 0.9998688990503092\n",
      "r2 score corresponding to 64 is 0.9999296291399493\n",
      "r2 score corresponding to 65 is 0.9997511048500725\n",
      "r2 score corresponding to 66 is 0.9997472675698562\n",
      "r2 score corresponding to 67 is 0.999922472295576\n",
      "r2 score corresponding to 68 is 0.9998496638163608\n",
      "r2 score corresponding to 69 is 0.9995851676041964\n",
      "r2 score corresponding to 70 is 0.9997641577946694\n",
      "r2 score corresponding to 71 is 0.9998179464956123\n",
      "r2 score corresponding to 72 is 0.9990577517643964\n",
      "r2 score corresponding to 73 is 0.9997766254767964\n",
      "r2 score corresponding to 74 is 0.9999146549202474\n",
      "r2 score corresponding to 75 is 0.99983300495758\n",
      "r2 score corresponding to 76 is 0.9994942196475649\n",
      "r2 score corresponding to 77 is 0.9997995143973137\n",
      "r2 score corresponding to 78 is 0.9999303457670672\n",
      "r2 score corresponding to 79 is 0.9998733541206922\n",
      "r2 score corresponding to 80 is 0.9998060613197614\n",
      "r2 score corresponding to 81 is 0.9998712795712084\n",
      "r2 score corresponding to 82 is 0.9998045574079756\n",
      "r2 score corresponding to 83 is 0.9998119126000756\n",
      "r2 score corresponding to 84 is 0.9998235072613586\n",
      "r2 score corresponding to 85 is 0.9997502356341581\n",
      "r2 score corresponding to 86 is 0.9998700941892797\n",
      "r2 score corresponding to 87 is 0.9997424214870351\n",
      "r2 score corresponding to 88 is 0.9999110948237165\n",
      "r2 score corresponding to 89 is 0.9998468744916775\n",
      "r2 score corresponding to 90 is 0.9998932972793139\n",
      "r2 score corresponding to 91 is 0.9998036882300839\n",
      "r2 score corresponding to 92 is 0.999862960752919\n",
      "r2 score corresponding to 93 is 0.9999668687028161\n",
      "r2 score corresponding to 94 is 0.9998140362767775\n",
      "r2 score corresponding to 95 is 0.9998980328762989\n",
      "r2 score corresponding to 96 is 0.9995417963638596\n",
      "r2 score corresponding to 97 is 0.999619830893789\n",
      "r2 score corresponding to 98 is 0.9998833372975267\n",
      "r2 score corresponding to 99 is 0.9996466002087568\n",
      "max r2 score corresponding to 93 is 0.9999668687028161\n"
     ]
    }
   ],
   "source": [
    "knr=KNeighborsRegressor(n_neighbors=1)\n",
    "i=maxr2_score(knr,x1,y)"
   ]
  },
  {
   "cell_type": "code",
   "execution_count": 34,
   "metadata": {},
   "outputs": [
    {
     "name": "stdout",
     "output_type": "stream",
     "text": [
      "Mean r2 score for KNN Regression: 0.9998306271358981\n",
      "standard deviation in r2 score for KNN Regression 6.66213760250364e-05\n"
     ]
    }
   ],
   "source": [
    "from sklearn.model_selection import cross_val_score\n",
    "\n",
    "print(\"Mean r2 score for KNN Regression:\",cross_val_score(knr,x1,y,cv=5,scoring=\"r2\").mean())\n",
    "print(\"standard deviation in r2 score for KNN Regression\",cross_val_score(knr,x1,y,cv=5,scoring=\"r2\").std())"
   ]
  },
  {
   "cell_type": "code",
   "execution_count": 35,
   "metadata": {},
   "outputs": [
    {
     "data": {
      "text/plain": [
       "{'alpha': 0.001}"
      ]
     },
     "execution_count": 35,
     "metadata": {},
     "output_type": "execute_result"
    }
   ],
   "source": [
    "from sklearn.linear_model import Lasso\n",
    "lsreg=Lasso()\n",
    "parametors={\"alpha\":[0.001,0.01,0.1,1]}\n",
    "clf=GridSearchCV(lsreg,parametors,cv=10)\n",
    "clf.fit(x1,y)\n",
    "clf.best_params_"
   ]
  },
  {
   "cell_type": "code",
   "execution_count": 36,
   "metadata": {},
   "outputs": [
    {
     "name": "stdout",
     "output_type": "stream",
     "text": [
      "r2 score corresponding to 42 is 1.0\n",
      "r2 score corresponding to 43 is 1.0\n",
      "r2 score corresponding to 44 is 1.0\n",
      "r2 score corresponding to 45 is 1.0\n",
      "r2 score corresponding to 46 is 1.0\n",
      "r2 score corresponding to 47 is 1.0\n",
      "r2 score corresponding to 48 is 1.0\n",
      "r2 score corresponding to 49 is 1.0\n",
      "r2 score corresponding to 50 is 1.0\n",
      "r2 score corresponding to 51 is 1.0\n",
      "r2 score corresponding to 52 is 1.0\n",
      "r2 score corresponding to 53 is 1.0\n",
      "r2 score corresponding to 54 is 1.0\n",
      "r2 score corresponding to 55 is 1.0\n",
      "r2 score corresponding to 56 is 1.0\n",
      "r2 score corresponding to 57 is 1.0\n",
      "r2 score corresponding to 58 is 1.0\n",
      "r2 score corresponding to 59 is 1.0\n",
      "r2 score corresponding to 60 is 1.0\n",
      "r2 score corresponding to 61 is 1.0\n",
      "r2 score corresponding to 62 is 1.0\n",
      "r2 score corresponding to 63 is 1.0\n",
      "r2 score corresponding to 64 is 1.0\n",
      "r2 score corresponding to 65 is 1.0\n",
      "r2 score corresponding to 66 is 1.0\n",
      "r2 score corresponding to 67 is 1.0\n",
      "r2 score corresponding to 68 is 1.0\n",
      "r2 score corresponding to 69 is 1.0\n",
      "r2 score corresponding to 70 is 1.0\n",
      "r2 score corresponding to 71 is 1.0\n",
      "r2 score corresponding to 72 is 1.0\n",
      "r2 score corresponding to 73 is 1.0\n",
      "r2 score corresponding to 74 is 1.0\n",
      "r2 score corresponding to 75 is 1.0\n",
      "r2 score corresponding to 76 is 1.0\n",
      "r2 score corresponding to 77 is 1.0\n",
      "r2 score corresponding to 78 is 1.0\n",
      "r2 score corresponding to 79 is 1.0\n",
      "r2 score corresponding to 80 is 1.0\n",
      "r2 score corresponding to 81 is 1.0\n",
      "r2 score corresponding to 82 is 1.0\n",
      "r2 score corresponding to 83 is 1.0\n",
      "r2 score corresponding to 84 is 1.0\n",
      "r2 score corresponding to 85 is 1.0\n",
      "r2 score corresponding to 86 is 1.0\n",
      "r2 score corresponding to 87 is 1.0\n",
      "r2 score corresponding to 88 is 1.0\n",
      "r2 score corresponding to 89 is 1.0\n",
      "r2 score corresponding to 90 is 1.0\n",
      "r2 score corresponding to 91 is 1.0\n",
      "r2 score corresponding to 92 is 1.0\n",
      "r2 score corresponding to 93 is 1.0\n",
      "r2 score corresponding to 94 is 1.0\n",
      "r2 score corresponding to 95 is 1.0\n",
      "r2 score corresponding to 96 is 1.0\n",
      "r2 score corresponding to 97 is 1.0\n",
      "r2 score corresponding to 98 is 1.0\n",
      "r2 score corresponding to 99 is 1.0\n",
      "max r2 score corresponding to 42 is 1.0\n"
     ]
    }
   ],
   "source": [
    "lsreg=Lasso(alpha=0.001)\n",
    "i=maxr2_score(lsreg,x1,y)"
   ]
  },
  {
   "cell_type": "code",
   "execution_count": 37,
   "metadata": {},
   "outputs": [
    {
     "name": "stdout",
     "output_type": "stream",
     "text": [
      "Mean r2 score for Lasso Regression: 1.0\n",
      "standard deviation in r2 score for Lasso Regression 0.0\n"
     ]
    }
   ],
   "source": [
    "print(\"Mean r2 score for Lasso Regression:\",cross_val_score(lsreg,x1,y,cv=5,scoring=\"r2\").mean())\n",
    "print(\"standard deviation in r2 score for Lasso Regression\",cross_val_score(lsreg,x1,y,cv=5,scoring=\"r2\").std())"
   ]
  },
  {
   "cell_type": "code",
   "execution_count": 38,
   "metadata": {},
   "outputs": [
    {
     "data": {
      "text/plain": [
       "{'learning_rate': 0.01, 'n_estimators': 1000}"
      ]
     },
     "execution_count": 38,
     "metadata": {},
     "output_type": "execute_result"
    }
   ],
   "source": [
    "from sklearn.ensemble import GradientBoostingRegressor\n",
    "import warnings\n",
    "warnings.filterwarnings(\"ignore\")\n",
    "gbr=GradientBoostingRegressor()\n",
    "parameters={\"learning_rate\":[0.001,0.01,0.1,1],\"n_estimators\":[10,100,500,1000]}\n",
    "clf=GridSearchCV(gbr,parameters,cv=5)\n",
    "clf.fit(x1,y)\n",
    "clf.best_params_"
   ]
  },
  {
   "cell_type": "code",
   "execution_count": 39,
   "metadata": {},
   "outputs": [
    {
     "name": "stdout",
     "output_type": "stream",
     "text": [
      "Mean r2 score for gradient boosting Regression: 0.8569534744873885\n",
      "standard deviation in r2 score for gradient boosting Regression 0.001904317070929704\n"
     ]
    }
   ],
   "source": [
    "gbr=GradientBoostingRegressor(learning_rate=0.001,n_estimators=1000)\n",
    "print(\"Mean r2 score for gradient boosting Regression:\",cross_val_score(gbr,x1,y,cv=5,scoring=\"r2\").mean())\n",
    "print(\"standard deviation in r2 score for gradient boosting Regression\",cross_val_score(gbr,x1,y,cv=5,scoring=\"r2\").std())"
   ]
  },
  {
   "cell_type": "code",
   "execution_count": 40,
   "metadata": {},
   "outputs": [
    {
     "data": {
      "text/plain": [
       "{'learning_rate': 0.01, 'n_estimators': 1000}"
      ]
     },
     "execution_count": 40,
     "metadata": {},
     "output_type": "execute_result"
    }
   ],
   "source": [
    "from sklearn.ensemble import AdaBoostRegressor\n",
    "from sklearn.tree import DecisionTreeRegressor\n",
    "ada_reg=AdaBoostRegressor()\n",
    "parametors={\"learning_rate\":[0.001,0.01,0.1,1],\"n_estimators\":[10,100,500,1000],\"base_estimator\":[lsreg,DecisionTreeRegressor()]}\n",
    "clg=GridSearchCV(ada_reg,parameters,cv=5)\n",
    "clf.fit(x1,y)\n",
    "clf.best_params_"
   ]
  },
  {
   "cell_type": "code",
   "execution_count": 41,
   "metadata": {},
   "outputs": [
    {
     "name": "stdout",
     "output_type": "stream",
     "text": [
      "Mean r2 score for ada boosting regression: 1.0\n",
      "standard deviation in r2score for ada boosting regression 0.0\n"
     ]
    }
   ],
   "source": [
    "ada_reg=AdaBoostRegressor(base_estimator=lsreg,learning_rate=0.01,n_estimators=1000)\n",
    "print(\"Mean r2 score for ada boosting regression:\",cross_val_score(ada_reg,x1,y,cv=5,scoring=\"r2\").mean())\n",
    "print(\"standard deviation in r2score for ada boosting regression\",cross_val_score(ada_reg,x1,y,cv=5,scoring=\"r2\").std())"
   ]
  },
  {
   "cell_type": "code",
   "execution_count": 42,
   "metadata": {},
   "outputs": [
    {
     "name": "stdout",
     "output_type": "stream",
     "text": [
      "r2 score corresponding to 42 is 1.0\n",
      "r2 score corresponding to 43 is 1.0\n",
      "r2 score corresponding to 44 is 1.0\n",
      "r2 score corresponding to 45 is 1.0\n",
      "r2 score corresponding to 46 is 1.0\n",
      "r2 score corresponding to 47 is 1.0\n",
      "r2 score corresponding to 48 is 1.0\n",
      "r2 score corresponding to 49 is 1.0\n",
      "r2 score corresponding to 50 is 1.0\n",
      "r2 score corresponding to 51 is 1.0\n",
      "r2 score corresponding to 52 is 1.0\n",
      "r2 score corresponding to 53 is 1.0\n",
      "r2 score corresponding to 54 is 1.0\n",
      "r2 score corresponding to 55 is 1.0\n",
      "r2 score corresponding to 56 is 1.0\n",
      "r2 score corresponding to 57 is 1.0\n",
      "r2 score corresponding to 58 is 1.0\n",
      "r2 score corresponding to 59 is 1.0\n",
      "r2 score corresponding to 60 is 1.0\n",
      "r2 score corresponding to 61 is 1.0\n",
      "r2 score corresponding to 62 is 1.0\n",
      "r2 score corresponding to 63 is 1.0\n",
      "r2 score corresponding to 64 is 1.0\n",
      "r2 score corresponding to 65 is 1.0\n",
      "r2 score corresponding to 66 is 1.0\n",
      "r2 score corresponding to 67 is 1.0\n",
      "r2 score corresponding to 68 is 1.0\n",
      "r2 score corresponding to 69 is 1.0\n",
      "r2 score corresponding to 70 is 1.0\n",
      "r2 score corresponding to 71 is 1.0\n",
      "r2 score corresponding to 72 is 1.0\n",
      "r2 score corresponding to 73 is 1.0\n",
      "r2 score corresponding to 74 is 1.0\n",
      "r2 score corresponding to 75 is 1.0\n",
      "r2 score corresponding to 76 is 1.0\n",
      "r2 score corresponding to 77 is 1.0\n",
      "r2 score corresponding to 78 is 1.0\n",
      "r2 score corresponding to 79 is 1.0\n",
      "r2 score corresponding to 80 is 1.0\n",
      "r2 score corresponding to 81 is 1.0\n",
      "r2 score corresponding to 82 is 1.0\n",
      "r2 score corresponding to 83 is 1.0\n",
      "r2 score corresponding to 84 is 1.0\n",
      "r2 score corresponding to 85 is 1.0\n",
      "r2 score corresponding to 86 is 1.0\n",
      "r2 score corresponding to 87 is 1.0\n",
      "r2 score corresponding to 88 is 1.0\n",
      "r2 score corresponding to 89 is 1.0\n",
      "r2 score corresponding to 90 is 1.0\n",
      "r2 score corresponding to 91 is 1.0\n",
      "r2 score corresponding to 92 is 1.0\n",
      "r2 score corresponding to 93 is 1.0\n",
      "r2 score corresponding to 94 is 1.0\n",
      "r2 score corresponding to 95 is 1.0\n",
      "r2 score corresponding to 96 is 1.0\n",
      "r2 score corresponding to 97 is 1.0\n",
      "r2 score corresponding to 98 is 1.0\n",
      "r2 score corresponding to 99 is 1.0\n",
      "max r2 score corresponding to 42 is 1.0\n"
     ]
    }
   ],
   "source": [
    "r_state=maxr2_score(ada_reg,x1,y)"
   ]
  },
  {
   "cell_type": "code",
   "execution_count": 43,
   "metadata": {},
   "outputs": [],
   "source": [
    "# we tried all and found Add booster best one\n",
    "# getting score of 100%\n",
    "x_train,x_test,y_train,y_test=train_test_split(x1,y,random_state=42,test_size=0.20)\n",
    "ada_reg=AdaBoostRegressor()\n",
    "ada_reg.fit(x1,y)\n",
    "y_pred=ada_reg.predict(x_test)"
   ]
  },
  {
   "cell_type": "code",
   "execution_count": 44,
   "metadata": {},
   "outputs": [
    {
     "name": "stdout",
     "output_type": "stream",
     "text": [
      "RMSE is:  314392.07695023634\n",
      "r2_score is: 0.9957628924123612\n"
     ]
    }
   ],
   "source": [
    "import numpy as np\n",
    "from sklearn.metrics import r2_score\n",
    "from sklearn.metrics import mean_squared_error\n",
    "print(\"RMSE is: \",np.sqrt(mean_squared_error(y_test,y_pred)))\n",
    "print(\"r2_score is:\",r2_score(y_test,y_pred))"
   ]
  },
  {
   "cell_type": "code",
   "execution_count": 46,
   "metadata": {},
   "outputs": [
    {
     "data": {
      "text/plain": [
       "['mnc_salary.pkl']"
      ]
     },
     "execution_count": 46,
     "metadata": {},
     "output_type": "execute_result"
    }
   ],
   "source": [
    "import joblib\n",
    "joblib.dump(ada_reg,\"mnc_salary.pkl\")"
   ]
  },
  {
   "cell_type": "code",
   "execution_count": null,
   "metadata": {},
   "outputs": [],
   "source": []
  }
 ],
 "metadata": {
  "kernelspec": {
   "display_name": "Python 3",
   "language": "python",
   "name": "python3"
  },
  "language_info": {
   "codemirror_mode": {
    "name": "ipython",
    "version": 3
   },
   "file_extension": ".py",
   "mimetype": "text/x-python",
   "name": "python",
   "nbconvert_exporter": "python",
   "pygments_lexer": "ipython3",
   "version": "3.8.3"
  }
 },
 "nbformat": 4,
 "nbformat_minor": 4
}
